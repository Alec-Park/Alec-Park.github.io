{
  "nbformat": 4,
  "nbformat_minor": 0,
  "metadata": {
    "colab": {
      "provenance": [],
      "authorship_tag": "ABX9TyM9mPZKAo/RhkQ1wg1GO6Zc",
      "include_colab_link": true
    },
    "kernelspec": {
      "name": "python3",
      "display_name": "Python 3"
    },
    "language_info": {
      "name": "python"
    }
  },
  "cells": [
    {
      "cell_type": "markdown",
      "metadata": {
        "id": "view-in-github",
        "colab_type": "text"
      },
      "source": [
        "<a href=\"https://colab.research.google.com/github/Alec-Park/Alec-Park.github.io/blob/master/multiLinearRegression.ipynb\" target=\"_parent\"><img src=\"https://colab.research.google.com/assets/colab-badge.svg\" alt=\"Open In Colab\"/></a>"
      ]
    },
    {
      "cell_type": "code",
      "execution_count": 1,
      "metadata": {
        "colab": {
          "base_uri": "https://localhost:8080/"
        },
        "id": "6WVm5ZxS2Xj3",
        "outputId": "fbd79175-6729-447e-c92c-fa16f4b66e7e"
      },
      "outputs": [
        {
          "output_type": "stream",
          "name": "stdout",
          "text": [
            "2.14.0\n"
          ]
        }
      ],
      "source": [
        "import tensorflow as tf\n",
        "print(tf.__version__)"
      ]
    },
    {
      "cell_type": "code",
      "source": [
        "import numpy as np\n",
        "import pandas as pd\n",
        "import matplotlib.pyplot as plt\n",
        "from mpl_toolkits import mplot3d"
      ],
      "metadata": {
        "id": "DxbJ51hD2geo"
      },
      "execution_count": 2,
      "outputs": []
    },
    {
      "cell_type": "markdown",
      "source": [
        "공부시간 X와 성적 Y의 리스트 만들기"
      ],
      "metadata": {
        "id": "BAe0AKJhcnqI"
      }
    },
    {
      "cell_type": "code",
      "source": [
        "data = [[2, 0, 81], [4, 4, 93], [6, 2, 91], [8, 3, 97]]\n",
        "x1 = [i[0] for i in data]\n",
        "x2 = [i[1] for i in data]\n",
        "y = [i[2] for i in data]"
      ],
      "metadata": {
        "id": "jJdL2B6Acm2F"
      },
      "execution_count": 3,
      "outputs": []
    },
    {
      "cell_type": "markdown",
      "source": [
        "그래프로 확인"
      ],
      "metadata": {
        "id": "kcgOfd1G2gx8"
      }
    },
    {
      "cell_type": "code",
      "source": [
        "ax = plt.axes(projection='3d')\n",
        "ax.set_xlabel('study_hours')\n",
        "ax.set_ylabel('private_class')\n",
        "ax.set_zlabel('Score')\n",
        "ax.dist = 11\n",
        "ax.scatter(x1, x2, y)\n",
        "plt.show()"
      ],
      "metadata": {
        "id": "MPRzv1ErdG5O"
      },
      "execution_count": null,
      "outputs": []
    },
    {
      "cell_type": "markdown",
      "source": [
        "리스트로 되어 있는 x와 y값을 넘파이 배열로 바꾸기(인덱스로 하나씩 불러와 계산할 수 있도록 하기 위함)"
      ],
      "metadata": {
        "id": "-hK2KnovduMN"
      }
    },
    {
      "cell_type": "code",
      "source": [
        "x1_data = np.array(x1)\n",
        "x2_data = np.array(x2)\n",
        "y_data = np.array(y)"
      ],
      "metadata": {
        "id": "Q0POs7kWd2iZ"
      },
      "execution_count": 6,
      "outputs": []
    },
    {
      "cell_type": "markdown",
      "source": [
        "기울기 a와 절편 b의 값 초기화"
      ],
      "metadata": {
        "id": "OCtjGeiJd-6V"
      }
    },
    {
      "cell_type": "code",
      "source": [
        "a1 = 0\n",
        "a2 = 0\n",
        "b = 0"
      ],
      "metadata": {
        "id": "t3jUx5mHeDvB"
      },
      "execution_count": 7,
      "outputs": []
    },
    {
      "cell_type": "markdown",
      "source": [
        "학습률"
      ],
      "metadata": {
        "id": "4OHwcxfAeGby"
      }
    },
    {
      "cell_type": "code",
      "source": [
        "lr = 0.02"
      ],
      "metadata": {
        "id": "5y2xKD7TeI8S"
      },
      "execution_count": 9,
      "outputs": []
    },
    {
      "cell_type": "markdown",
      "source": [
        "몇 번 반복할지 설정(0부터 세므로 원하는 반복 횟수에 +1)"
      ],
      "metadata": {
        "id": "CKce417CeMQb"
      }
    },
    {
      "cell_type": "code",
      "source": [
        "epochs = 2001"
      ],
      "metadata": {
        "id": "Bp4iSLM-eSn6"
      },
      "execution_count": 10,
      "outputs": []
    },
    {
      "cell_type": "code",
      "source": [
        "#경사하강법 시작\n",
        "\n",
        "for i in range(epochs):\n",
        "    #print(i, x1_data, x2_data)\n",
        "    y_pred = a1 * x1_data + a2 * x2_data + b # y를 구하는식 세우기\n",
        "    error = y_data - y_pred\n",
        "    #print(error)\n",
        "\n",
        "    #오차함수를 a1로 미분한 값\n",
        "    a1_diff = -(2/len(x1_data)) * sum(x1_data * (error))\n",
        "    #오차함수를 a2로 미분한 값\n",
        "    a2_diff = -(2/len(x2_data)) * sum(x2_data * (error))\n",
        "    #오차함수를 b로 미분한 값\n",
        "    b_diff = -(2/len(x1_data)) * sum(y_data - y_pred)\n",
        "    #print(a1_diff, a2_diff, b_diff)\n",
        "    a1 = a1 - lr * a1_diff\n",
        "    a2 = a2 - lr * a2_diff\n",
        "    b = b - lr * b_diff\n",
        "\n",
        "    if i % 100 == 0:\n",
        "        print(\"epoch=%.f, 기울기1=%.04f, 기울기2=%.04f, 절편=%.04f\"%(i, a1, a2, b))"
      ],
      "metadata": {
        "colab": {
          "base_uri": "https://localhost:8080/"
        },
        "id": "jSvbUiC2edZG",
        "outputId": "e1e24763-2c97-45eb-bcce-768487f89558"
      },
      "execution_count": 16,
      "outputs": [
        {
          "output_type": "stream",
          "name": "stdout",
          "text": [
            "epoch=0, 기울기1=1.5000, 기울기2=2.2857, 절편=77.8571\n",
            "epoch=100, 기울기1=1.5000, 기울기2=2.2857, 절편=77.8571\n",
            "epoch=200, 기울기1=1.5000, 기울기2=2.2857, 절편=77.8571\n",
            "epoch=300, 기울기1=1.5000, 기울기2=2.2857, 절편=77.8571\n",
            "epoch=400, 기울기1=1.5000, 기울기2=2.2857, 절편=77.8571\n",
            "epoch=500, 기울기1=1.5000, 기울기2=2.2857, 절편=77.8571\n",
            "epoch=600, 기울기1=1.5000, 기울기2=2.2857, 절편=77.8571\n",
            "epoch=700, 기울기1=1.5000, 기울기2=2.2857, 절편=77.8571\n",
            "epoch=800, 기울기1=1.5000, 기울기2=2.2857, 절편=77.8571\n",
            "epoch=900, 기울기1=1.5000, 기울기2=2.2857, 절편=77.8571\n",
            "epoch=1000, 기울기1=1.5000, 기울기2=2.2857, 절편=77.8571\n",
            "epoch=1100, 기울기1=1.5000, 기울기2=2.2857, 절편=77.8571\n",
            "epoch=1200, 기울기1=1.5000, 기울기2=2.2857, 절편=77.8571\n",
            "epoch=1300, 기울기1=1.5000, 기울기2=2.2857, 절편=77.8571\n",
            "epoch=1400, 기울기1=1.5000, 기울기2=2.2857, 절편=77.8571\n",
            "epoch=1500, 기울기1=1.5000, 기울기2=2.2857, 절편=77.8571\n",
            "epoch=1600, 기울기1=1.5000, 기울기2=2.2857, 절편=77.8571\n",
            "epoch=1700, 기울기1=1.5000, 기울기2=2.2857, 절편=77.8571\n",
            "epoch=1800, 기울기1=1.5000, 기울기2=2.2857, 절편=77.8571\n",
            "epoch=1900, 기울기1=1.5000, 기울기2=2.2857, 절편=77.8571\n",
            "epoch=2000, 기울기1=1.5000, 기울기2=2.2857, 절편=77.8571\n"
          ]
        }
      ]
    }
  ]
}